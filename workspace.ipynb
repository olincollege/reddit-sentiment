{
 "cells": [
  {
   "cell_type": "markdown",
   "metadata": {},
   "source": [
    "# literally a space to work on the writeup while avoiding merge conflicts. put this in the other notebook when done."
   ]
  },
  {
   "cell_type": "markdown",
   "metadata": {},
   "source": [
    "Your notebook may be titled anything you like, as long as it is reasonably clear. A generic title like Untitled.ipynb is not appropriate. Also, you should include your name, as well as your partner’s name (if applicable) at the top of your essay, and give your essay a reasonably clear title.\n",
    "\n",
    "Your essay should include the four sections listed below.\n",
    "Introduction #\n",
    "\n",
    "In the introduction, you should aim to tell the reader what your project is about. In doing so, you should answer the following questions:\n",
    "\n",
    "    What is the question you are trying to answer or the story that you are trying you tell?\n",
    "    * We wanted to investigate the nature of human behavior and self-regulation in anonymous virtual spaces. Reddit is an online forum where replies are nested; that is, a single comment can generate many replies as child comments, and each of those comments can then generate its own respective child comments. We were interested in how the sentiments, or emotion, changed throughout a comment thread, and whether sentiment was amplified or damped by increased nesting.\n",
    "    Why is this question or story important?\n",
    "    * This story is important because of the differences seen in online vs. in-person communication. Our results can help us understand what drives the way people behave and interact in online spaces, especially when anonymous.\n",
    "    What were the main steps your project made towards answering the question or telling the story?\n",
    "    * Our project is organized into data cleaning in `data_cleaning.py`, sentiment analysis in `sentiment_analysis.py`, and data visualization in this notebook. We acquired data, cleaned it, analyzed it, and visualized it using plots. Our results are interpreted in this computational essay.\n",
    "\n",
    "Data: What data will you collect to answer this question? Where will you get this data from?\n",
    "\n",
    "We are collecting data from subreddits using PRAW and performing sentiment analysis using VADER.\n",
    "\n",
    "\n",
    "Beyond answering these questions, you are free to structure this section however you wish.\n",
    "Methodology #\n",
    "\n",
    "In the methodology, you should explain how you obtained, processed, and summarized or visualized the data. In doing so, you should answer the following questions:\n",
    "\n",
    "    Where did you get your data from?\n",
    "    * We used data from Reddit, which we scraped using [PRAW (Python Reddit API Wrapper)](https://pypi.org/project/praw \"Allows for simple access to reddit's API.\") to access the [Reddit API](https://www.reddit.com/wiki/api \"Reddit API Access.\").\n",
    "    How did you get this data (i.e., did you programmatically download it or did you access it through an API)?\n",
    "    How did you store and/or process this data (e.g., did you store and process it in Pandas)?\n",
    "    * The data is stored in .csv files and accessed using [pandas](https://pandas.pydata.org/ \"A data analysis tool\") DataFrames.\n",
    "    What information did you get from this data that you used in the presentation of your results?\n",
    "    * Our visualizations, created using [seaborn](https://seaborn.pydata.org/) and [matplotlib](https://matplotlib.org/) use the subreddit in which a thread is located, the depth of each individual comment, and the average sentiment of all the comments at a given depth in a given comment thread.\n",
    "\n",
    "Results #\n",
    "\n",
    "In the results, you should show the main summaries or visualizations of your data, along with any accompanying information. In doing so, you should answer the following questions:\n",
    "\n",
    "    What summaries or visualizations did you create?\n",
    "    What are the interesting and/or important parts of these summaries or visualizations?\n",
    "    How do these results answer your questions or tell your story?\n",
    "\n",
    "Conclusion #\n",
    "\n",
    "In the conclusion, you should provide key takeaways for the reader. In doing so, you should answer the following questions, where applicable:\n",
    "\n",
    "    What are the important insights that the reader should get from this project?\n",
    "    * Our project is a very limited, preliminary examination of how the nature of online interaction shapes the emotional content of messages. While we set out to investigate human behavior and how it is impacted by online spaces and anonymity, our small sample size means that any conclusions that can be drawn or trends that can be identified should be regarded with a significant degree of skepticism.\n",
    "    What are the contextual or ethical implications of your topic or work?\n",
    "    * \n",
    "    What lessons did you learn as you did the project?\n",
    "    * \n",
    "    What were the most difficult, challenging, or frustrating parts of the project?\n",
    "    * Cleaning the data in preparation for sentiment analysis was challenging, as there were some inconsistencies in the documentation and resources we were using: for example, we needed to refactor our code to analyze entire sentences rather than individual words. Referring directly to the VADER documentation would have saved us time here. Writing unit tests was also difficult, due to the size and complexity of both the data and VADER/NLTK. \n",
    "    In what ways would you extend or change your project if you had more time?\n",
    "    * The next steps of this project would be to gather more data points, both in terms of the length of comment threads and the number of unique contributors at each depth. With a larger sample size, our data can be more reliable and the conlusions more concrete."
   ]
  }
 ],
 "metadata": {
  "kernelspec": {
   "display_name": "Python 3",
   "language": "python",
   "name": "python3"
  },
  "language_info": {
   "codemirror_mode": {
    "name": "ipython",
    "version": 3
   },
   "file_extension": ".py",
   "mimetype": "text/x-python",
   "name": "python",
   "nbconvert_exporter": "python",
   "pygments_lexer": "ipython3",
   "version": "3.8.5"
  }
 },
 "nbformat": 4,
 "nbformat_minor": 4
}
